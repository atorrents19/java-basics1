{
  "nbformat": 4,
  "nbformat_minor": 0,
  "metadata": {
    "colab": {
      "provenance": [],
      "private_outputs": true,
      "collapsed_sections": [
        "v9hXfeq_tmoc"
      ]
    },
    "kernelspec": {
      "name": "java",
      "display_name": "java"
    }
  },
  "cells": [
    {
      "cell_type": "markdown",
      "source": [
        " # Java template for Colaboratory notebooks"
      ],
      "metadata": {
        "id": "v9hXfeq_tmoc"
      }
    },
    {
      "cell_type": "code",
      "metadata": {
        "id": "DC4pJkyNfOF1"
      },
      "source": [
        "!apt update -q\n",
        "!apt-get install -q openjdk-11-jdk-headless\n",
        "!curl -L https://github.com/SpencerPark/IJava/releases/download/v1.3.0/ijava-1.3.0.zip -o ijava-kernel.zip\n",
        "!unzip -q ijava-kernel.zip -d ijava-kernel && cd ijava-kernel && python3 install.py --sys-prefix\n",
        "!jupyter kernelspec list\n"
      ],
      "execution_count": null,
      "outputs": []
    },
    {
      "cell_type": "code",
      "metadata": {
        "id": "bF2jPn3RfpfR"
      },
      "source": [
        "System.out.println(\"Hello World\");\n"
      ],
      "execution_count": null,
      "outputs": []
    },
    {
      "cell_type": "code",
      "metadata": {
        "id": "Y2BVNSNKgkUK"
      },
      "source": [
        "byte b = -128;\n",
        "System.out.println(b);\n"
      ],
      "execution_count": null,
      "outputs": []
    },
    {
      "cell_type": "code",
      "source": [
        "short s =10;\n",
        "int n = 10;\n",
        "long l =10;"
      ],
      "metadata": {
        "id": "zfBG3UDv-ALg"
      },
      "execution_count": null,
      "outputs": []
    },
    {
      "cell_type": "code",
      "source": [
        "byte b = (byte)179;\n",
        "System.out.println(b);\n"
      ],
      "metadata": {
        "id": "EeEH11Vi_0Gt"
      },
      "execution_count": null,
      "outputs": []
    },
    {
      "cell_type": "code",
      "source": [
        "float f = 10.5F;"
      ],
      "metadata": {
        "id": "ZebcmG-kG4fO"
      },
      "execution_count": null,
      "outputs": []
    },
    {
      "cell_type": "code",
      "source": [
        "char c = 'A';\n",
        "System.out.println(c);"
      ],
      "metadata": {
        "id": "xJCKNWmpIIbO"
      },
      "execution_count": null,
      "outputs": []
    },
    {
      "cell_type": "code",
      "source": [
        "int h = c;\n",
        "System.out.println(h);\n"
      ],
      "metadata": {
        "id": "CMVLakJYJDTu"
      },
      "execution_count": null,
      "outputs": []
    },
    {
      "cell_type": "code",
      "source": [
        "boolean bol = false\n",
        " ;\n"
      ],
      "metadata": {
        "id": "-G1NbHMeMfZq"
      },
      "execution_count": null,
      "outputs": []
    },
    {
      "cell_type": "code",
      "source": [
        "String saludo = \"Hola\";\n",
        "System.out.println(saludo);\n"
      ],
      "metadata": {
        "id": "wbHlhhefNrjt"
      },
      "execution_count": null,
      "outputs": []
    },
    {
      "cell_type": "code",
      "source": [
        "Scanner scn = new Scanner(System.in);\n",
        "scn.nextLine();"
      ],
      "metadata": {
        "id": "UUM4sqFROQzE"
      },
      "execution_count": null,
      "outputs": []
    },
    {
      "cell_type": "markdown",
      "source": [
        "Expressions Aritmètiques"
      ],
      "metadata": {
        "id": "klV7LlzvoGQR"
      }
    },
    {
      "cell_type": "code",
      "source": [
        "//Suma\n",
        "System.out.println(10 + 9);\n",
        "//Resta\n",
        "System.out.println(10 - 9);\n",
        "//Multiplicació\n",
        "System.out.println(10 * 9);\n",
        "//Divisió entera\n",
        "System.out.println(10 / 9);\n",
        "//Divisió decimal\n",
        "System.out.println(10.0 / 9.0);\n"
      ],
      "metadata": {
        "id": "v58dyHf8oVok"
      },
      "execution_count": null,
      "outputs": []
    },
    {
      "cell_type": "code",
      "source": [
        "int n = 4;\n",
        "int m = 2;\n",
        "int r = 2*(n / m) + n * m;\n",
        "System.out.println(r);\n",
        "\n"
      ],
      "metadata": {
        "id": "WQjHtteXqtZT"
      },
      "execution_count": null,
      "outputs": []
    },
    {
      "cell_type": "markdown",
      "source": [
        "EXPRESIONS LÒGIQUES (BOOLEANES)"
      ],
      "metadata": {
        "id": "3VIw4jwBtfWg"
      }
    },
    {
      "cell_type": "code",
      "source": [
        "boolean jo = true;\n",
        "boolean tu = false;\n",
        "\n",
        "boolean resultAnd = jo && tu;\n",
        "boolean resultOr = jo || tu;\n",
        "boolean resultNot = !jo;\n",
        "\n",
        "System.out.println(resultAnd);\n",
        "System.out.println(resultOr);\n",
        "System.out.println(resultNot);\n"
      ],
      "metadata": {
        "id": "ttmRiz7DtljO"
      },
      "execution_count": null,
      "outputs": []
    },
    {
      "cell_type": "markdown",
      "source": [
        "#true and true = true\n",
        "#true and false = false\n",
        "#false and false = false\n",
        "#true or true = true\n",
        "#true or false = false\n",
        "#false or false = false\n",
        "#! es lo opuesto"
      ],
      "metadata": {
        "id": "YBfTAEGf1CvZ"
      }
    },
    {
      "cell_type": "code",
      "source": [],
      "metadata": {
        "id": "zMKvYCwv1Eb4"
      },
      "execution_count": null,
      "outputs": []
    },
    {
      "cell_type": "code",
      "source": [
        "int x; //declaracio de variable\n",
        "x = 6; //asignacio\n",
        "int y = 5; //declacacio de variable i asignacio al mateix temps\n",
        "System.out.println(x==y); //igualtat\n",
        "System.out.println(x != y); //diferent\n",
        "System.out.println(x > y); //mes gran que\n",
        "System.out.println(x < y); //mes petit que\n",
        "System.out.println(x >= y); //mes gran o igual que\n",
        "System.out.println(x <= y); //mes petit o igual que"
      ],
      "metadata": {
        "id": "fG9gAG2S18pf"
      },
      "execution_count": null,
      "outputs": []
    },
    {
      "cell_type": "code",
      "source": [
        "int n = 5, m = 10;\n",
        "int r = n * m;\n",
        "System.out.println(r);"
      ],
      "metadata": {
        "id": "id8blM1N5Qii"
      },
      "execution_count": null,
      "outputs": []
    },
    {
      "cell_type": "code",
      "source": [
        "boolean jo = true, tu = false;\n",
        "boolean result = jo && tu;\n",
        "if (!res)\n",
        "System.out.println(\"res es true\");\n",
        "else\n",
        "System.out.println(\"res es false\");\n"
      ],
      "metadata": {
        "id": "0XrKneG35jCr"
      },
      "execution_count": null,
      "outputs": []
    },
    {
      "cell_type": "code",
      "source": [
        "boolean res = 6 == 5;\n",
        "System.out.println(res);\n"
      ],
      "metadata": {
        "id": "iaqGfhl-6ONV"
      },
      "execution_count": null,
      "outputs": []
    },
    {
      "cell_type": "code",
      "source": [
        "int num = 12;\n",
        "//true si el num està entre 10 i 20 inclosos\n",
        "//false si no ho esta\n",
        "if (num >=10 && num <=20)\n",
        "System.out.println(\"Esta dentro entre 10 y 20\");\n",
        "else\n",
        "System.out.println(\"No esta dentro\");"
      ],
      "metadata": {
        "id": "QArcLh5o7YrM"
      },
      "execution_count": null,
      "outputs": []
    },
    {
      "cell_type": "code",
      "source": [
        "int x = 6;\n",
        "int v = 55;\n",
        "// \"v és multiple de x\" si v es multiple de x\n",
        "//\"v no es multiple de x\" en cas contrari\n",
        "if (v % x == 0)\n",
        "  System.out.println(\"v es multiple de x\");\n",
        "else\n",
        "  System.out.println(\"v no es multiple de x\");\n"
      ],
      "metadata": {
        "id": "d6exlaVh-1_W"
      },
      "execution_count": null,
      "outputs": []
    },
    {
      "cell_type": "code",
      "source": [
        "String mon = \"World\";\n",
        "int n = 55;\n",
        "System.out.printf(\"Hello %s!!! %nBye bye %d%n\", mon, n);"
      ],
      "metadata": {
        "id": "kQZQr0w2GQmL"
      },
      "execution_count": null,
      "outputs": []
    },
    {
      "cell_type": "code",
      "source": [
        "System.out.printf(\"Numero deu mil milions = %,d %n\", 10000000000L);"
      ],
      "metadata": {
        "id": "eKPzLuLdHbdf"
      },
      "execution_count": null,
      "outputs": []
    },
    {
      "cell_type": "code",
      "source": [
        "System.out.printf(\"Numero pi = %.6f %n\", 3.1415); "
      ],
      "metadata": {
        "id": "HICpawIyICDn"
      },
      "execution_count": null,
      "outputs": []
    },
    {
      "cell_type": "code",
      "source": [
        "int dia = 1;\n",
        "int mes = 10;\n",
        "int any = 2017;\n",
        "System.out.printf(\"Fecha de cumpleños = %02d/%2d/%4d%n\", dia, mes, any); "
      ],
      "metadata": {
        "id": "cNUbBgzlM7oT"
      },
      "execution_count": null,
      "outputs": []
    },
    {
      "cell_type": "markdown",
      "source": [
        "Blocs de codi"
      ],
      "metadata": {
        "id": "qa3SEufcPykg"
      }
    },
    {
      "cell_type": "code",
      "source": [
        "int n = 7; //es visible per tots els blocs de codi fills\n",
        "{\n",
        "  //bloc de codi 1\n",
        "  System.out.printf(\"Desde el bloc de codi 1:n = %d %n\", n);\n",
        "  int m = 10;\n",
        "  {\n",
        "    //bloc de codi 2 fill del 1\n",
        "    System.out.printf(\"Desde el bloc de codi 2:n = %d %n\", n);\n",
        "    System.out.printf(\"Desde el bloc de codi 2:m = %d %n\", m);\n",
        "  }\n",
        "}\n",
        "{\n",
        "  //bloc de codi 3 germà de l'1\n",
        "  System.out.printf(\"Desde el bloc de codi 3:n = %d %n\", n);\n",
        "}\n",
        "\n"
      ],
      "metadata": {
        "id": "9WfOyC-QPzjA"
      },
      "execution_count": null,
      "outputs": []
    },
    {
      "cell_type": "markdown",
      "source": [
        "Pregunta 1\n",
        "Declara dues variables de tipus byte, b0 i b1, i assigna-lis respectivament els valors 122 i 14:\n",
        "\n",
        "byte b0 = 122; byte b1 = 14;\n",
        "Suma les dues variables, sense assignar el resultat a cap variable (jshell l'assignarà automàticament a un variable temporal, que comença per $):\n",
        "\n",
        "b0 + b1"
      ],
      "metadata": {
        "id": "FNjhdqwIOcXf"
      }
    },
    {
      "cell_type": "code",
      "source": [
        "byte b0 = 122; byte b1 = 14;//123\n",
        "int r = (int)(b0 + b1);\n",
        "System.out.printf(\"RESULTADO = %d%n\", r);\n",
        "// \" da 136, por que es la suma de uno mas el otro y es integer por que se pone por defecto si no lo indicas "
      ],
      "metadata": {
        "id": "W_SHGWLKLIv0"
      },
      "execution_count": null,
      "outputs": []
    },
    {
      "cell_type": "markdown",
      "source": [
        "Declara una variable de tipus char anomenada c, i assignali el valor 'a':\n",
        "\n",
        "char c = 'a';\n",
        "Declara una variable de tipus int, anomenada n, i assigna-li el valor de la variable c:\n",
        "\n",
        "int n = c;\n",
        "Quin resultat obtens? Per què?\n",
        "\n",
        "//TODO"
      ],
      "metadata": {
        "id": "jEyCvs-CQbPo"
      }
    },
    {
      "cell_type": "code",
      "source": [
        "char c = 'a';\n",
        "  System.out.printf(\"Tipo String = %s%n\", c);\n",
        "int n = c;\n",
        "  System.out.printf(\"Resultado = %d%n\", n);\n",
        "\n",
        "//"
      ],
      "metadata": {
        "id": "7-it4TjjQg8H"
      },
      "execution_count": null,
      "outputs": []
    },
    {
      "cell_type": "code",
      "source": [
        "char c = 'a';\n",
        "short s = c;\n",
        "   System.out.printf(\"resultado = %s%n\", s);\n",
        "// Por que la capacidad de short no acepta la cantidad de bits de de integer, entonces lo tendremos que forzar a short"
      ],
      "metadata": {
        "id": "e2Mlg3ksSQaB"
      },
      "execution_count": null,
      "outputs": []
    },
    {
      "cell_type": "code",
      "source": [
        "char c = 'a';\n",
        "short s = (short)c;\n",
        "   System.out.printf(\"resultado = %s%n\", s);"
      ],
      "metadata": {
        "id": "K2ByhC4yWbpG"
      },
      "execution_count": null,
      "outputs": []
    },
    {
      "cell_type": "markdown",
      "source": [
        "Continuant amb les variables de tipus char i short declarades a l'exercici 2, ara executeu:\n",
        "\n",
        "short s = (short)c;\n",
        "Com s'anomena això que estem fent amb la variable c? Quin resultat obtenim ara? Per què (què està passant)?\n",
        "\n",
        "//TODO"
      ],
      "metadata": {
        "id": "fEiAcXfFWesc"
      }
    },
    {
      "cell_type": "code",
      "source": [
        "short s = (short)c;\n",
        "// Lo estamos forzando, obtendremos un resultado de el valor que especificamos en el ejercicio 2, por que al forzarlo(casting) a short hacemos que acepte mas bits"
      ],
      "metadata": {
        "id": "22tz8sf9WrWb"
      },
      "execution_count": null,
      "outputs": []
    },
    {
      "cell_type": "markdown",
      "source": [
        "Pregunta 4\n",
        "Executa el següent codi en una cel·la del notebook:\n",
        "\n",
        "short s = (short)32000;\n",
        "short s = (short)35000;\n",
        "Quins resultats obtens? Per què?\n",
        "\n",
        "//TODO\n",
        "\n",
        "La meva resposta és que......"
      ],
      "metadata": {
        "id": "oN1aPAYjXh6r"
      }
    },
    {
      "cell_type": "code",
      "source": [
        "short s = (short)32000;\n",
        "  System.out.println(s);\n",
        "\n",
        "short s = (short)35000;\n",
        "  System.out.print(s);\n",
        "//es por que la posicion del 32000 esta dentro de los positivos, pero el 35000 se pasa por lo que pasa a se negativo por es calculo de que el primer bit se vuleve negativo y el resto positivos, si lo aplicas al 35000 te sale que da -30536(100000...)el primer 1 expresando el negativo y el resto los positivos."
      ],
      "metadata": {
        "id": "i1DXD5m0Xi-J"
      },
      "execution_count": null,
      "outputs": []
    },
    {
      "cell_type": "markdown",
      "source": [
        "Pregunta 5\n",
        "Executa el següent codi amb el jshell:\n",
        "\n",
        "var v = 5.0;\n",
        "var v0 = 5;\n",
        "De quin tipus de dada són les variables v i v0?\n",
        "\n",
        "//TODO\n",
        "\n",
        "Ara, executa:\n",
        "\n",
        "var v1 = v + v0;\n",
        "De quin tipus de dada és la variable v1? Per què (què està passant en fer-se la suma)?\n",
        "\n",
        "//TODO"
      ],
      "metadata": {
        "id": "7Jt68qeOceWk"
      }
    },
    {
      "cell_type": "code",
      "source": [
        "var v = 5.0;\n",
        "var v0 = 5;\n",
        "  System.out.printf(\"Resultado suma = %f%n %d%n\", v, v0);\n",
        "\n",
        "// la v es float por que admite decimales, y v0 es integer por que es un numero entero\n",
        "var v1 = v + v0;\n",
        "System.out.printf(\"Resultado suma = %f%n\", v1);\n",
        "// el resultado te da float, por que si no especificas nunguno, el resultado te dara por defecto como float por ir con decimales.\n",
        "\n"
      ],
      "metadata": {
        "id": "EiwzmZqydSVs"
      },
      "execution_count": null,
      "outputs": []
    },
    {
      "cell_type": "markdown",
      "source": [
        "Pregunta 8\n",
        "Declareu dues variables de tipus char de la següent manera:\n",
        "\n",
        "char c = 'a', c1 = 1;\n",
        "L'objectiu d'aquest exercici és assignar el valor 'b' en una tercera variable de tipus char, però sense usar el literal 'b', sinó fent la suma de les variables c i c1, és a dir:\n",
        "\n",
        "char c2 = c + c1;\n",
        "Què està passant? Com ho podem solucionar per tal d'aconseguir l'objectiu d'aquest exercici?\n",
        "\n",
        "//TODO"
      ],
      "metadata": {
        "id": "iavOlL7HhMe-"
      }
    },
    {
      "cell_type": "code",
      "source": [
        "char c = 'a', c1 = 1;\n",
        "  System.out.printf(\"%s, %s%n\", c, c1);\n",
        "char c2 = c + c1;\n",
        "  System.out.printf(\"%s%n\", c2);\n",
        "//por que con char no se puede sumar, pero si con integer, entonces si lo pones con integer, te da 98"
      ],
      "metadata": {
        "id": "FgbHHflbhPo-"
      },
      "execution_count": null,
      "outputs": []
    },
    {
      "cell_type": "code",
      "source": [
        "int c2 = c + c1;\n",
        "  System.out.printf(\"%s%n\", c2);"
      ],
      "metadata": {
        "id": "063cc6n_h20R"
      },
      "execution_count": null,
      "outputs": []
    },
    {
      "cell_type": "markdown",
      "source": [
        "Pregunta 9\n",
        "Executa la següent expressió i assigna-la a una variable h:\n",
        "\n",
        "var h = 4 * 4f + (4.0 + 4);\n",
        "Ara, assigna el valor guardat a la variable h, a una altra variable de tipus float:\n",
        "\n",
        "float f = h;\n",
        "Què obtenim? Per què?\n",
        "\n",
        "//TODO\n",
        "\n",
        "Ara escriu el canvi que cal fer en l'expressió inicial (4 * 4f + (4.0 + 4)) per tal que l'assignació del valor d'h a f sigui reeixit.\n",
        "\n",
        "//TODO"
      ],
      "metadata": {
        "id": "Ek4u_ngzlKnB"
      }
    },
    {
      "cell_type": "code",
      "source": [
        "var h = 4 * 4f + (4.0 + 4);\n",
        "  System.out.printf(\"%f%n\", h);\n",
        "float f = h;\n",
        "  System.out.printf(\"%f%n\", f);\n",
        "//obtenemos un error, por que no forzamos al 4.0 a ser float(4.0f), por que si no reconoce al 4.0 como double y queremos que sea un float\n"
      ],
      "metadata": {
        "id": "vbj-DT2clXXi"
      },
      "execution_count": null,
      "outputs": []
    },
    {
      "cell_type": "code",
      "source": [
        "var h = 4 * 4f + (4.0f + 4);\n",
        "   System.out.printf(\"%1.1f%n\", h);\n",
        "float f = h;\n",
        "  System.out.printf(\"%f%n\", f);\n",
        "//ahora lo correcto es poner el 4.0 para que lo fuerze a ser float y quepa dentro de float"
      ],
      "metadata": {
        "id": "6gbPK6RioVJ0"
      },
      "execution_count": null,
      "outputs": []
    },
    {
      "cell_type": "markdown",
      "source": [
        "Pregunta 10\n",
        "A partir de les següents variables i assignacions:\n",
        "\n",
        "byte b0 = 4, b1 = -4, b2 = 12;\n",
        "Executa el següent codi:\n",
        "\n",
        "boolean bol1 = b0 == b2 / 3;\n",
        "boolean bol2 = b0 + b1;\n",
        "boolean bol3 = b0 + b1 > b2;\n",
        "Explica el resultats obtinguts en cada cas:\n",
        "\n",
        "//TODO"
      ],
      "metadata": {
        "id": "dUPUTgRypcmA"
      }
    },
    {
      "cell_type": "code",
      "source": [
        "byte b0 = 4, b1 = -4, b2 = 12;\n",
        "boolean bol1 = b0 == b2 / 3;\n",
        "  System.out.printf(\"%b%n\", bol1);\n",
        "boolean bol2 = b0 + b1;\n",
        "  System.out.printf(\"%b%n\", bol2);\n",
        "boolean bol3 = b0 + b1 > b2;\n",
        "  System.out.printf(\"%b%n\", bol3);\n",
        "// en este caso, el bol 1 esta correcto por que hay una comparación y boolean te puede decir si es true o false, en el caso de bol2 no hay un mayor o menos o igual, ni nada que de un resultado de true o false, entonces nos da error, y en caso de el bol3 da false y esta bien hecho, pero como se lee de manera vertical se para cuando hay un error y no lee mas abajo.\n"
      ],
      "metadata": {
        "id": "k9cp8OKopeeR"
      },
      "execution_count": null,
      "outputs": []
    }
  ]
}